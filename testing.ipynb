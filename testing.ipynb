{
 "cells": [
  {
   "cell_type": "code",
   "execution_count": 1,
   "metadata": {},
   "outputs": [],
   "source": [
    "from backend import *\n",
    "from interface import *"
   ]
  },
  {
   "cell_type": "code",
   "execution_count": 2,
   "metadata": {},
   "outputs": [
    {
     "name": "stdout",
     "output_type": "stream",
     "text": [
      "Account ID: 1\n",
      "Account Type: stock_account\n",
      "\n",
      "\n",
      "Account ID: 2\n",
      "Account Type: real_estate_account\n",
      "\n",
      "\n",
      "Account ID: 3\n",
      "Account Type: crypto_account\n",
      "\n",
      "\n",
      "Account ID: 4\n",
      "Account Type: checking_account\n",
      "\n",
      "\n",
      "Account ID: 5\n",
      "Account Type: savings_account\n",
      "\n",
      "\n"
     ]
    }
   ],
   "source": [
    "portfolio = Portfolio()\n",
    "\n",
    "account_factory = AccountFactory()\n",
    "asset_factory = AssetFactory()\n",
    "\n",
    "stock_account = account_factory.create_account('stock', 'stock_account', 'fidelity')\n",
    "stock_account.add_asset(asset_factory.create_asset(\"stock\", 'Apple', 'AAPL', 100, 100))\n",
    "stock_account.add_asset(asset_factory.create_asset(\"stock\", 'Google', 'GOOGL', 200, 100))\n",
    "\n",
    "real_estate_account = account_factory.create_account('realestate', 'real_estate_account')\n",
    "real_estate_account.add_asset(asset_factory.create_asset(\"realestate\", 'House', '123 Main', '09/01/2023', 1000000, 500000))\n",
    "real_estate_account.add_asset(asset_factory.create_asset(\"realestate\", 'Condo', '456 Elm', '09/01/2022', 500000, 250000))\n",
    "\n",
    "crypto_account = account_factory.create_account('crypto', 'crypto_account', 'coinbase')\n",
    "crypto_account.add_asset(asset_factory.create_asset(\"crypto\", 'Bitcoin', 'BTC', 100, 10000))\n",
    "crypto_account.add_asset(asset_factory.create_asset(\"crypto\", 'Ethereum', 'ETH', 200, 5000))\n",
    "\n",
    "checking_account = account_factory.create_account('checking', 'checking_account', 'chase', 50)\n",
    "checking_account.deposit(5000)\n",
    "checking_account.withdraw(1000)\n",
    "\n",
    "savings_account = account_factory.create_account('savings', 'savings_account', 'chase', .05)\n",
    "savings_account.deposit(10000)\n",
    "savings_account.withdraw(5000)\n",
    "savings_account.apply_interest()\n",
    "\n",
    "portfolio.add_account(stock_account)\n",
    "portfolio.add_account(real_estate_account)\n",
    "portfolio.add_account(crypto_account)\n",
    "portfolio.add_account(checking_account)\n",
    "portfolio.add_account(savings_account)\n",
    "portfolio.view_accounts()"
   ]
  },
  {
   "cell_type": "code",
   "execution_count": null,
   "metadata": {},
   "outputs": [],
   "source": []
  }
 ],
 "metadata": {
  "kernelspec": {
   "display_name": "base",
   "language": "python",
   "name": "python3"
  },
  "language_info": {
   "codemirror_mode": {
    "name": "ipython",
    "version": 3
   },
   "file_extension": ".py",
   "mimetype": "text/x-python",
   "name": "python",
   "nbconvert_exporter": "python",
   "pygments_lexer": "ipython3",
   "version": "3.12.3"
  }
 },
 "nbformat": 4,
 "nbformat_minor": 2
}
